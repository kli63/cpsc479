{
 "cells": [
  {
   "cell_type": "markdown",
   "metadata": {},
   "source": "# Image Style Transfer",
   "outputs": []
  },
  {
   "cell_type": "markdown",
   "metadata": {},
   "source": [
    "## Imports"
   ]
  },
  {
   "cell_type": "code",
   "metadata": {},
   "source": "import sys\nsys.path.append('src')\n\nimport os\nimport matplotlib.pyplot as plt\nimport cv2\nimport numpy as np\nfrom scipy import ndimage\nimport random\n\n# Import the StyleTransfer class\nfrom style_transfer import StyleTransfer",
   "outputs": []
  },
  {
   "cell_type": "markdown",
   "metadata": {},
   "source": [
    "## Load and Display Images"
   ]
  },
  {
   "cell_type": "code",
   "execution_count": null,
   "metadata": {},
   "source": [
    "def display_image(img_path):\n",
    "    \"\"\"Display an image from file\"\"\"\n",
    "    img = cv2.imread(img_path)\n",
    "    img_rgb = cv2.cvtColor(img, cv2.COLOR_BGR2RGB)\n",
    "    plt.figure(figsize=(8, 8))\n",
    "    plt.imshow(img_rgb)\n",
    "    plt.axis('off')\n",
    "    plt.title(os.path.basename(img_path))\n",
    "    plt.show()\n",
    "\n",
    "# Display source images\n",
    "content_path = \"assets/input/download.jpg\"\n",
    "style_path = \"assets/reference/classical_art.jpg\"\n",
    "\n",
    "print(\"Content Image:\")\n",
    "display_image(content_path)\n",
    "\n",
    "print(\"Style Reference Image:\")\n",
    "display_image(style_path)"
   ]
  },
  {
   "cell_type": "markdown",
   "metadata": {},
   "source": "## Apply Style Transfer",
   "outputs": []
  },
  {
   "cell_type": "code",
   "metadata": {},
   "source": "# Initialize the style transfer instance\nstyle_transfer = StyleTransfer()\n\n# Define output directory\noutput_dir = \"assets/_results\"\nos.makedirs(output_dir, exist_ok=True)\n\n# Apply style transfer with balanced preset\nprint(\"Applying style transfer with 'balanced' preset...\")\ncontent, style, result = style_transfer.process(\n    content_path, style_path, \n    target_size=(512, 512),\n    preset=\"balanced\"\n)\n\n# Display results\nplt.figure(figsize=(18, 6))\n\nplt.subplot(1, 3, 1)\nplt.imshow(content)\nplt.title(\"Content Image\")\nplt.axis(\"off\")\n\nplt.subplot(1, 3, 2)\nplt.imshow(style)\nplt.title(\"Style Reference\")\nplt.axis(\"off\")\n\nplt.subplot(1, 3, 3)\nplt.imshow(result)\nplt.title(\"Stylized Result (Balanced)\")\nplt.axis(\"off\")\n\nplt.tight_layout()\nplt.show()\n\n# Save the result\noutput_path = os.path.join(output_dir, \"style_balanced.png\")\nresult_display = (result * 255).astype(np.uint8)\ncv2.imwrite(output_path, cv2.cvtColor(result_display, cv2.COLOR_RGB2BGR))\nprint(f\"Result saved to {output_path}\")",
   "outputs": []
  },
  {
   "cell_type": "markdown",
   "metadata": {},
   "source": [
    "## Try Different Presets"
   ]
  },
  {
   "cell_type": "code",
   "metadata": {},
   "source": "# Available presets\npresets = [\"painterly\", \"classical\", \"dramatic\"]\n\n# Apply and display each preset\nplt.figure(figsize=(15, 5 * len(presets)))\n\nfor i, preset in enumerate(presets):\n    print(f\"\\nApplying style transfer with '{preset}' preset...\")\n    _, _, result = style_transfer.process(\n        content_path, style_path, \n        target_size=(512, 512),\n        preset=preset\n    )\n    \n    # Display result\n    plt.subplot(len(presets), 1, i+1)\n    plt.imshow(result)\n    plt.title(f\"Stylized Result ({preset.capitalize()})\")\n    plt.axis(\"off\")\n    \n    # Save result\n    output_path = os.path.join(output_dir, f\"style_{preset}.png\")\n    result_display = (result * 255).astype(np.uint8)\n    cv2.imwrite(output_path, cv2.cvtColor(result_display, cv2.COLOR_RGB2BGR))\n    print(f\"Result saved to {output_path}\")\n\nplt.tight_layout()\nplt.show()",
   "outputs": []
  },
  {
   "cell_type": "markdown",
   "metadata": {},
   "source": "## Feature Extraction",
   "outputs": []
  },
  {
   "cell_type": "code",
   "execution_count": null,
   "metadata": {},
   "source": [
    "import json\n",
    "import subprocess\n",
    "import sys\n",
    "\n",
    "# Import the feature extraction module\n",
    "from feature_extraction import process_all_images\n",
    "\n",
    "# Run the feature extraction directly\n",
    "print(\"Extracting features from images...\")\n",
    "process_all_images(\"assets/input\", \"assets/_results\")\n",
    "\n",
    "# Load and display extracted features\n",
    "features_path = os.path.join(\"assets/_results\", \"download_features.json\")\n",
    "if os.path.exists(features_path):\n",
    "    with open(features_path, 'r') as f:\n",
    "        features = json.load(f)\n",
    "    \n",
    "    # Display some key features\n",
    "    print(\"\\nExtracted Features Summary:\")\n",
    "    print(f\"Image: {features['image_info']['filename']}\")\n",
    "    print(f\"Dimensions: {features['image_info']['width']}x{features['image_info']['height']}\")\n",
    "    print(f\"Aspect Ratio: {features['image_info']['aspect_ratio']:.2f}\")\n",
    "    print(\"\\nColor Features:\")\n",
    "    print(f\"Mean Hue: {features['color_features']['mean_hue']:.2f}\")\n",
    "    print(f\"Mean Saturation: {features['color_features']['mean_saturation']:.2f}\")\n",
    "    print(f\"Mean Value: {features['color_features']['mean_value']:.2f}\")\n",
    "    print(\"\\nTexture Features:\")\n",
    "    print(f\"Contrast: {features['texture_features']['contrast']:.4f}\")\n",
    "    print(f\"Homogeneity: {features['texture_features']['homogeneity']:.4f}\")\n",
    "    print(f\"Energy: {features['texture_features']['energy']:.4f}\")\n",
    "    print(\"\\nShape Features:\")\n",
    "    print(f\"Edge Density: {features['shape_features']['edge_density']:.4f}\")\n",
    "    print(f\"Number of Contours: {features['shape_features']['num_contours']}\")\n",
    "else:\n",
    "    print(f\"\\nFeatures file not found at {features_path}\")"
   ]
  },
  {
   "cell_type": "markdown",
   "metadata": {},
   "source": [
    "## Visualize Feature Extraction Results"
   ]
  },
  {
   "cell_type": "code",
   "execution_count": null,
   "metadata": {},
   "source": [
    "# Display the visualization generated by the feature extraction\n",
    "viz_path = os.path.join(\"assets/_results\", \"download_visualization.png\")\n",
    "if os.path.exists(viz_path):\n",
    "    img = cv2.imread(viz_path)\n",
    "    img_rgb = cv2.cvtColor(img, cv2.COLOR_BGR2RGB)\n",
    "    plt.figure(figsize=(15, 15))\n",
    "    plt.imshow(img_rgb)\n",
    "    plt.axis('off')\n",
    "    plt.title(\"Feature Visualization\")\n",
    "    plt.show()\n",
    "else:\n",
    "    print(f\"Visualization file not found at {viz_path}\")\n",
    "\n",
    "# Display depth map\n",
    "depth_path = os.path.join(\"assets/_results\", \"download_depth_map.png\")\n",
    "if os.path.exists(depth_path):\n",
    "    img = cv2.imread(depth_path)\n",
    "    plt.figure(figsize=(10, 10))\n",
    "    plt.imshow(img)\n",
    "    plt.axis('off')\n",
    "    plt.title(\"Depth Map Estimation\")\n",
    "    plt.show()\n",
    "else:\n",
    "    print(f\"Depth map file not found at {depth_path}\")"
   ]
  }
 ],
 "metadata": {
  "kernelspec": {
   "display_name": "Python 3",
   "language": "python",
   "name": "python3"
  },
  "language_info": {
   "codemirror_mode": {
    "name": "ipython",
    "version": 3
   },
   "file_extension": ".py",
   "mimetype": "text/x-python",
   "name": "python",
   "nbconvert_exporter": "python",
   "pygments_lexer": "ipython3",
   "version": "3.8.10"
  }
 },
 "nbformat": 4,
 "nbformat_minor": 4
}